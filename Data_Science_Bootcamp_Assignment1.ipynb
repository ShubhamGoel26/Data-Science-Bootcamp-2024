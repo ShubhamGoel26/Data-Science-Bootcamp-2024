{
 "cells": [
  {
   "cell_type": "code",
   "execution_count": 1,
   "id": "a2bbf7d5-5cdf-4066-b352-ac4a00a2dd72",
   "metadata": {},
   "outputs": [],
   "source": [
    "import numpy as np"
   ]
  },
  {
   "cell_type": "code",
   "execution_count": 27,
   "id": "2d000d34-9152-4953-826b-0544c2ba82a0",
   "metadata": {},
   "outputs": [],
   "source": [
    "#1. Write a function  count_vowels(word) that takes a word as an argument and returns the number of vowels in the word\n",
    "def count_vowels(word):\n",
    "    vowels = ['a','e', 'i', 'o', 'u']\n",
    "    count = 0\n",
    "    for letter in word:\n",
    "        if letter in vowels:\n",
    "            count += 1\n",
    "    return count"
   ]
  },
  {
   "cell_type": "code",
   "execution_count": 57,
   "id": "2a77e7ef-7dca-4415-a90c-a76a2f56fdb2",
   "metadata": {},
   "outputs": [
    {
     "name": "stdout",
     "output_type": "stream",
     "text": [
      "TIGER\n",
      "ELEPHANT\n",
      "MONKEY\n",
      "ZEBRA\n",
      "PANTHER\n"
     ]
    }
   ],
   "source": [
    "#2. Iterate through the following list of animals and print each one in all caps.\n",
    "animals=['tiger', 'elephant', 'monkey', 'zebra', 'panther']\n",
    "for animal in animals:\n",
    "    cap_animal = ''\n",
    "    for letter in animal:\n",
    "        cap_animal += chr(ord(letter) -32)\n",
    "    print(cap_animal)\n",
    "    "
   ]
  },
  {
   "cell_type": "code",
   "execution_count": 63,
   "id": "a5dc9b74-3414-47b8-a732-e9dc44223851",
   "metadata": {},
   "outputs": [
    {
     "name": "stdout",
     "output_type": "stream",
     "text": [
      "1 is odd\n",
      "2 is even\n",
      "3 is odd\n",
      "4 is even\n",
      "5 is odd\n",
      "6 is even\n",
      "7 is odd\n",
      "8 is even\n",
      "9 is odd\n",
      "10 is even\n",
      "11 is odd\n",
      "12 is even\n",
      "13 is odd\n",
      "14 is even\n",
      "15 is odd\n",
      "16 is even\n",
      "17 is odd\n",
      "18 is even\n",
      "19 is odd\n",
      "20 is even\n"
     ]
    }
   ],
   "source": [
    "#3. Write a program that iterates from 1 to 20, printing each number and whether it's odd or even.\n",
    "for i in range(1, 21):\n",
    "    if i%2 ==0:\n",
    "        print(f\"{i} is even\")\n",
    "    else:\n",
    "        print(f\"{i} is odd\")"
   ]
  },
  {
   "cell_type": "code",
   "execution_count": 83,
   "id": "652c37f2-a025-4567-853d-b69487b4014e",
   "metadata": {},
   "outputs": [
    {
     "name": "stdin",
     "output_type": "stream",
     "text": [
      " Enter 1st integer:  5\n",
      " Enter 2nd integer:  6\n"
     ]
    },
    {
     "name": "stdout",
     "output_type": "stream",
     "text": [
      "sum of 5 and 6 is : 11\n"
     ]
    }
   ],
   "source": [
    "# 4. Write a function sum_of_integers(a, b) that takes two integers as input from the user and returns their sum.\n",
    "def sum_of_integers(a, b):\n",
    "    return (a+b)\n",
    "\n",
    "a = input(\" Enter 1st integer: \")\n",
    "b= input(\" Enter 2nd integer: \")\n",
    "sum = sum_of_integers(int(a),int(b))\n",
    "print(f\"sum of {a} and {b} is : {sum}\")"
   ]
  },
  {
   "cell_type": "code",
   "execution_count": null,
   "id": "730d57ab-33f9-4b0d-ad9b-8a57c3970bd5",
   "metadata": {},
   "outputs": [],
   "source": []
  }
 ],
 "metadata": {
  "kernelspec": {
   "display_name": "Python 3 (ipykernel)",
   "language": "python",
   "name": "python3"
  },
  "language_info": {
   "codemirror_mode": {
    "name": "ipython",
    "version": 3
   },
   "file_extension": ".py",
   "mimetype": "text/x-python",
   "name": "python",
   "nbconvert_exporter": "python",
   "pygments_lexer": "ipython3",
   "version": "3.12.4"
  }
 },
 "nbformat": 4,
 "nbformat_minor": 5
}
